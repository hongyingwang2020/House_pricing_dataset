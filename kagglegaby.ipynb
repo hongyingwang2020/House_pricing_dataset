{
  "nbformat": 4,
  "nbformat_minor": 0,
  "metadata": {
    "kernelspec": {
      "display_name": "Python 3",
      "language": "python",
      "name": "python3"
    },
    "language_info": {
      "codemirror_mode": {
        "name": "ipython",
        "version": 3
      },
      "file_extension": ".py",
      "mimetype": "text/x-python",
      "name": "python",
      "nbconvert_exporter": "python",
      "pygments_lexer": "ipython3",
      "version": "3.8.3"
    },
    "colab": {
      "name": "kas.ipynb",
      "provenance": [],
      "include_colab_link": true
    }
  },
  "cells": [
    {
      "cell_type": "markdown",
      "metadata": {
        "id": "view-in-github",
        "colab_type": "text"
      },
      "source": [
        "<a href=\"https://colab.research.google.com/github/hongyingwang2020/House_pricing_dataset/blob/master/kagglegaby.ipynb\" target=\"_parent\"><img src=\"https://colab.research.google.com/assets/colab-badge.svg\" alt=\"Open In Colab\"/></a>"
      ]
    },
    {
      "cell_type": "code",
      "metadata": {
        "id": "sM_Witu9t6wD"
      },
      "source": [
        ""
      ],
      "execution_count": null,
      "outputs": []
    },
    {
      "cell_type": "code",
      "metadata": {
        "id": "ImuLdRSOt6wF"
      },
      "source": [
        "import pandas as pd\n",
        "import numpy as np\n",
        "import matplotlib.pyplot as plt\n",
        "import seaborn as sns\n",
        "from sklearn.linear_model import LinearRegression\n",
        "pd.set_option('display.max_columns', None)\n",
        "%matplotlib inline"
      ],
      "execution_count": null,
      "outputs": []
    },
    {
      "cell_type": "code",
      "metadata": {
        "id": "hcDehht8t6wG"
      },
      "source": [
        "train_data = pd.read_csv(\"dataset_csv/train.csv\",index_col='ad_id')\n",
        "test_data = pd.read_csv(\"dataset_csv/test.csv\",index_col='ad_id')\n"
      ],
      "execution_count": null,
      "outputs": []
    },
    {
      "cell_type": "code",
      "metadata": {
        "id": "ve5tqgNBt6wI",
        "outputId": "f46bf5b9-fb77-472d-f6a6-56accf9b9990"
      },
      "source": [
        "train_data.head()"
      ],
      "execution_count": null,
      "outputs": [
        {
          "output_type": "execute_result",
          "data": {
            "text/html": [
              "<div>\n",
              "<style scoped>\n",
              "    .dataframe tbody tr th:only-of-type {\n",
              "        vertical-align: middle;\n",
              "    }\n",
              "\n",
              "    .dataframe tbody tr th {\n",
              "        vertical-align: top;\n",
              "    }\n",
              "\n",
              "    .dataframe thead th {\n",
              "        text-align: right;\n",
              "    }\n",
              "</style>\n",
              "<table border=\"1\" class=\"dataframe\">\n",
              "  <thead>\n",
              "    <tr style=\"text-align: right;\">\n",
              "      <th></th>\n",
              "      <th>area</th>\n",
              "      <th>bathrooms</th>\n",
              "      <th>beds</th>\n",
              "      <th>ber_classification</th>\n",
              "      <th>county</th>\n",
              "      <th>description_block</th>\n",
              "      <th>environment</th>\n",
              "      <th>facility</th>\n",
              "      <th>features</th>\n",
              "      <th>latitude</th>\n",
              "      <th>longitude</th>\n",
              "      <th>no_of_units</th>\n",
              "      <th>price</th>\n",
              "      <th>property_category</th>\n",
              "      <th>property_type</th>\n",
              "      <th>surface</th>\n",
              "    </tr>\n",
              "    <tr>\n",
              "      <th>ad_id</th>\n",
              "      <th></th>\n",
              "      <th></th>\n",
              "      <th></th>\n",
              "      <th></th>\n",
              "      <th></th>\n",
              "      <th></th>\n",
              "      <th></th>\n",
              "      <th></th>\n",
              "      <th></th>\n",
              "      <th></th>\n",
              "      <th></th>\n",
              "      <th></th>\n",
              "      <th></th>\n",
              "      <th></th>\n",
              "      <th></th>\n",
              "      <th></th>\n",
              "    </tr>\n",
              "  </thead>\n",
              "  <tbody>\n",
              "    <tr>\n",
              "      <th>996887</th>\n",
              "      <td>Portmarnock</td>\n",
              "      <td>NaN</td>\n",
              "      <td>NaN</td>\n",
              "      <td>NaN</td>\n",
              "      <td>Dublin</td>\n",
              "      <td>A SELECTION OF 4 AND 5 BEDROOM FAMILY HOMES LO...</td>\n",
              "      <td>prod</td>\n",
              "      <td>NaN</td>\n",
              "      <td>None</td>\n",
              "      <td>53.418216</td>\n",
              "      <td>-6.149329</td>\n",
              "      <td>18.0</td>\n",
              "      <td>NaN</td>\n",
              "      <td>new_development_parent</td>\n",
              "      <td>NaN</td>\n",
              "      <td>NaN</td>\n",
              "    </tr>\n",
              "    <tr>\n",
              "      <th>999327</th>\n",
              "      <td>Lucan</td>\n",
              "      <td>NaN</td>\n",
              "      <td>NaN</td>\n",
              "      <td>NaN</td>\n",
              "      <td>Dublin</td>\n",
              "      <td>**Last 2 remaining houses for sale ***\\n\\nOn v...</td>\n",
              "      <td>prod</td>\n",
              "      <td>NaN</td>\n",
              "      <td>None</td>\n",
              "      <td>53.364917</td>\n",
              "      <td>-6.454935</td>\n",
              "      <td>3.0</td>\n",
              "      <td>NaN</td>\n",
              "      <td>new_development_parent</td>\n",
              "      <td>NaN</td>\n",
              "      <td>NaN</td>\n",
              "    </tr>\n",
              "    <tr>\n",
              "      <th>999559</th>\n",
              "      <td>Rathfarnham</td>\n",
              "      <td>NaN</td>\n",
              "      <td>NaN</td>\n",
              "      <td>NaN</td>\n",
              "      <td>Dublin</td>\n",
              "      <td>Final 4 &amp;amp; 5 Bedroom Homes for Sale\\n\\nOn V...</td>\n",
              "      <td>prod</td>\n",
              "      <td>NaN</td>\n",
              "      <td>None</td>\n",
              "      <td>53.273447</td>\n",
              "      <td>-6.313821</td>\n",
              "      <td>3.0</td>\n",
              "      <td>NaN</td>\n",
              "      <td>new_development_parent</td>\n",
              "      <td>NaN</td>\n",
              "      <td>NaN</td>\n",
              "    </tr>\n",
              "    <tr>\n",
              "      <th>9102986</th>\n",
              "      <td>Balbriggan</td>\n",
              "      <td>NaN</td>\n",
              "      <td>NaN</td>\n",
              "      <td>NaN</td>\n",
              "      <td>Dublin</td>\n",
              "      <td>Glenveagh Taylor Hill, Balbriggan\\n\\r\\n*Ideal ...</td>\n",
              "      <td>prod</td>\n",
              "      <td>NaN</td>\n",
              "      <td>None</td>\n",
              "      <td>53.608167</td>\n",
              "      <td>-6.210914</td>\n",
              "      <td>30.0</td>\n",
              "      <td>NaN</td>\n",
              "      <td>new_development_parent</td>\n",
              "      <td>NaN</td>\n",
              "      <td>NaN</td>\n",
              "    </tr>\n",
              "    <tr>\n",
              "      <th>9106028</th>\n",
              "      <td>Foxrock</td>\n",
              "      <td>NaN</td>\n",
              "      <td>NaN</td>\n",
              "      <td>NaN</td>\n",
              "      <td>Dublin</td>\n",
              "      <td>*New phase launching this weekend Sat &amp;amp; Su...</td>\n",
              "      <td>prod</td>\n",
              "      <td>NaN</td>\n",
              "      <td>None</td>\n",
              "      <td>53.262531</td>\n",
              "      <td>-6.181527</td>\n",
              "      <td>8.0</td>\n",
              "      <td>NaN</td>\n",
              "      <td>new_development_parent</td>\n",
              "      <td>NaN</td>\n",
              "      <td>NaN</td>\n",
              "    </tr>\n",
              "  </tbody>\n",
              "</table>\n",
              "</div>"
            ],
            "text/plain": [
              "                area  bathrooms  beds ber_classification  county  \\\n",
              "ad_id                                                              \n",
              "996887   Portmarnock        NaN   NaN                NaN  Dublin   \n",
              "999327         Lucan        NaN   NaN                NaN  Dublin   \n",
              "999559   Rathfarnham        NaN   NaN                NaN  Dublin   \n",
              "9102986   Balbriggan        NaN   NaN                NaN  Dublin   \n",
              "9106028      Foxrock        NaN   NaN                NaN  Dublin   \n",
              "\n",
              "                                         description_block environment  \\\n",
              "ad_id                                                                    \n",
              "996887   A SELECTION OF 4 AND 5 BEDROOM FAMILY HOMES LO...        prod   \n",
              "999327   **Last 2 remaining houses for sale ***\\n\\nOn v...        prod   \n",
              "999559   Final 4 &amp; 5 Bedroom Homes for Sale\\n\\nOn V...        prod   \n",
              "9102986  Glenveagh Taylor Hill, Balbriggan\\n\\r\\n*Ideal ...        prod   \n",
              "9106028  *New phase launching this weekend Sat &amp; Su...        prod   \n",
              "\n",
              "        facility features   latitude  longitude  no_of_units  price  \\\n",
              "ad_id                                                                 \n",
              "996887       NaN     None  53.418216  -6.149329         18.0    NaN   \n",
              "999327       NaN     None  53.364917  -6.454935          3.0    NaN   \n",
              "999559       NaN     None  53.273447  -6.313821          3.0    NaN   \n",
              "9102986      NaN     None  53.608167  -6.210914         30.0    NaN   \n",
              "9106028      NaN     None  53.262531  -6.181527          8.0    NaN   \n",
              "\n",
              "              property_category property_type  surface  \n",
              "ad_id                                                   \n",
              "996887   new_development_parent           NaN      NaN  \n",
              "999327   new_development_parent           NaN      NaN  \n",
              "999559   new_development_parent           NaN      NaN  \n",
              "9102986  new_development_parent           NaN      NaN  \n",
              "9106028  new_development_parent           NaN      NaN  "
            ]
          },
          "metadata": {
            "tags": []
          },
          "execution_count": 68
        }
      ]
    },
    {
      "cell_type": "code",
      "metadata": {
        "id": "yy4QR2r3t6wI",
        "outputId": "fbdd5686-fda0-43bf-b903-abe44bf4919b"
      },
      "source": [
        "train_data.shape"
      ],
      "execution_count": null,
      "outputs": [
        {
          "output_type": "execute_result",
          "data": {
            "text/plain": [
              "(2982, 16)"
            ]
          },
          "metadata": {
            "tags": []
          },
          "execution_count": 162
        }
      ]
    },
    {
      "cell_type": "code",
      "metadata": {
        "id": "bw-38xnAt6wJ"
      },
      "source": [
        "# unimportant features - known from data description\n",
        "unwanted_features = [\n",
        "    'facility','area','description_block','environment','no_of_units','property_category','features','county'\n",
        "]\n",
        "\n",
        "new_data = train_data.drop(unwanted_features, axis=1)"
      ],
      "execution_count": null,
      "outputs": []
    },
    {
      "cell_type": "code",
      "metadata": {
        "id": "C2pzTJnut6wK",
        "outputId": "75bc1c8a-a1f7-4a4e-8d44-d5c02f1cdc02"
      },
      "source": [
        "new_data.shape"
      ],
      "execution_count": null,
      "outputs": [
        {
          "output_type": "execute_result",
          "data": {
            "text/plain": [
              "(2982, 8)"
            ]
          },
          "metadata": {
            "tags": []
          },
          "execution_count": 164
        }
      ]
    },
    {
      "cell_type": "code",
      "metadata": {
        "id": "Vaf3IQGGt6wK",
        "outputId": "e78f5b8f-96ca-4882-e4ea-922e973e1185"
      },
      "source": [
        "new_data.columns"
      ],
      "execution_count": null,
      "outputs": [
        {
          "output_type": "execute_result",
          "data": {
            "text/plain": [
              "Index(['bathrooms', 'beds', 'ber_classification', 'latitude', 'longitude',\n",
              "       'price', 'property_type', 'surface'],\n",
              "      dtype='object')"
            ]
          },
          "metadata": {
            "tags": []
          },
          "execution_count": 144
        }
      ]
    },
    {
      "cell_type": "code",
      "metadata": {
        "id": "kdMG_6Zot6wL",
        "outputId": "e5d3d7be-43e2-4915-dcc9-5053a155ddcd"
      },
      "source": [
        "# get columns with nan values\n",
        "nan_per = new_data.isna().sum() / new_data.isna().count()\n",
        "nan_features = new_data.loc[:,nan_per > 0].columns\n",
        "nan_features"
      ],
      "execution_count": null,
      "outputs": [
        {
          "output_type": "execute_result",
          "data": {
            "text/plain": [
              "Index(['bathrooms', 'beds', 'ber_classification', 'price', 'property_type',\n",
              "       'surface'],\n",
              "      dtype='object')"
            ]
          },
          "metadata": {
            "tags": []
          },
          "execution_count": 165
        }
      ]
    },
    {
      "cell_type": "code",
      "metadata": {
        "id": "zGGLEcpht6wL"
      },
      "source": [
        "# get coulumns with nan percent >= threshold to delete them\n",
        "threshold = 0.6\n",
        "nan_drop = new_data.loc[:,nan_per >= threshold].columns\n",
        "new_data.drop(nan_drop, axis=1, inplace=True)\n",
        "nan_features = nan_features.drop(nan_drop) # remainder nan features"
      ],
      "execution_count": null,
      "outputs": []
    },
    {
      "cell_type": "code",
      "metadata": {
        "id": "7MjvldTAt6wM",
        "outputId": "72464677-87d6-414d-f73f-18f509fe4802"
      },
      "source": [
        "new_data.columns"
      ],
      "execution_count": null,
      "outputs": [
        {
          "output_type": "execute_result",
          "data": {
            "text/plain": [
              "Index(['bathrooms', 'beds', 'ber_classification', 'latitude', 'longitude',\n",
              "       'price', 'property_type', 'surface'],\n",
              "      dtype='object')"
            ]
          },
          "metadata": {
            "tags": []
          },
          "execution_count": 139
        }
      ]
    },
    {
      "cell_type": "code",
      "metadata": {
        "id": "Z_noVBvVt6wO",
        "outputId": "0ac315dc-0ec5-4825-9cce-6ba3d9384974"
      },
      "source": [
        "# explore nan_features\n",
        "new_data[nan_features].dtypes"
      ],
      "execution_count": null,
      "outputs": [
        {
          "output_type": "execute_result",
          "data": {
            "text/plain": [
              "bathrooms             float64\n",
              "beds                  float64\n",
              "ber_classification     object\n",
              "price                 float64\n",
              "property_type          object\n",
              "surface               float64\n",
              "dtype: object"
            ]
          },
          "metadata": {
            "tags": []
          },
          "execution_count": 167
        }
      ]
    },
    {
      "cell_type": "code",
      "metadata": {
        "id": "DpK4zTV0t6wO",
        "outputId": "470f6e62-84c4-4cb1-9b3d-936e0f1183ee"
      },
      "source": [
        "nan_features"
      ],
      "execution_count": null,
      "outputs": [
        {
          "output_type": "execute_result",
          "data": {
            "text/plain": [
              "Index(['bathrooms', 'beds', 'ber_classification', 'price', 'property_type',\n",
              "       'surface'],\n",
              "      dtype='object')"
            ]
          },
          "metadata": {
            "tags": []
          },
          "execution_count": 129
        }
      ]
    },
    {
      "cell_type": "code",
      "metadata": {
        "id": "QqGWpyA0t6wO"
      },
      "source": [
        "nan_meaning_features = ['ber_classification', 'property_type']\n",
        "for col in nan_meaning_features:\n",
        "    new_data[col].fillna(0, inplace=True)\n",
        "    #new_data[col].fillna(new_data[col].mode().iat[0], inplace=True)\n",
        "nan_features = nan_features.drop(nan_meaning_features)"
      ],
      "execution_count": null,
      "outputs": []
    },
    {
      "cell_type": "code",
      "metadata": {
        "id": "uhdUCqYpt6wP",
        "outputId": "073ced09-64cf-40dd-e7bf-f2047b5aaba3"
      },
      "source": [
        "nan_features"
      ],
      "execution_count": null,
      "outputs": [
        {
          "output_type": "execute_result",
          "data": {
            "text/plain": [
              "Index(['bathrooms', 'beds', 'price', 'surface'], dtype='object')"
            ]
          },
          "metadata": {
            "tags": []
          },
          "execution_count": 169
        }
      ]
    },
    {
      "cell_type": "code",
      "metadata": {
        "id": "Rq5TarOFt6wP"
      },
      "source": [
        "# fill nan values with most frequency value\n",
        "for col in nan_features:\n",
        "    new_data[col].fillna(new_data[col].mode().iat[0], inplace=True)"
      ],
      "execution_count": null,
      "outputs": []
    },
    {
      "cell_type": "code",
      "metadata": {
        "id": "tQ50__zNt6wP",
        "outputId": "6e90b49f-935b-4a0a-c18a-a1dfd5948cb7"
      },
      "source": [
        "# get categorical features\n",
        "cat_cols = new_data.select_dtypes('object').columns\n",
        "cat_cols"
      ],
      "execution_count": null,
      "outputs": [
        {
          "output_type": "execute_result",
          "data": {
            "text/plain": [
              "Index(['ber_classification', 'property_type'], dtype='object')"
            ]
          },
          "metadata": {
            "tags": []
          },
          "execution_count": 150
        }
      ]
    },
    {
      "cell_type": "code",
      "metadata": {
        "id": "0NH-2BSXt6wQ",
        "outputId": "07355473-11ef-48cd-e16f-e4829d81dc81"
      },
      "source": [
        "# get unique values of categorical features\n",
        "for col in cat_cols:\n",
        "    uv = new_data[col].unique()\n",
        "    print(f'{col} ({len(uv)}) ==> {uv}')"
      ],
      "execution_count": null,
      "outputs": [
        {
          "output_type": "stream",
          "text": [
            "ber_classification (17) ==> [0 'A3' 'A2' 'E2' 'G' 'C1' 'F' 'C2' 'C3' 'D2' 'D1' 'B2' 'E1'\n",
            " 'SINo666of2006exempt' 'B3' 'B1' 'A1']\n",
            "property_type (11) ==> [0 'detached' 'semi-detached' 'apartment' 'terraced' 'site' 'bungalow'\n",
            " 'townhouse' 'end-of-terrace' 'duplex' 'studio']\n"
          ],
          "name": "stdout"
        }
      ]
    },
    {
      "cell_type": "code",
      "metadata": {
        "id": "Pc2c2Iqkt6wQ"
      },
      "source": [
        "# map categorical values\n",
        "new_data['ber_classification'] = new_data['ber_classification'].map({0:0 ,'A3':1 ,'A2':2 ,'E2':3, 'G':4, 'C1':5 ,'F':6 ,'C2':7, 'C3':8, \n",
        "                                                           'D2':9, 'D1':10 ,'B2':11 ,'E1':12, 'SINo666of2006exempt':13,'B3':14, 'B1':15, 'A1': 16})\n",
        "new_data['property_type'] = new_data['property_type'].map({0:0, 'detached':1, 'semi-detached':2, 'apartment':3, 'terraced':4,'site':5, 'bungalow':6\n",
        " ,'townhouse':7, 'end-of-terrace':8, 'duplex':9, 'studio':10})"
      ],
      "execution_count": null,
      "outputs": []
    },
    {
      "cell_type": "code",
      "metadata": {
        "id": "2mnTgZvUt6wR",
        "outputId": "d98303e5-d856-484f-fcbd-173542b2cdbf"
      },
      "source": [
        "correlations = new_data.corr()\n",
        "plt.figure(figsize = (16,16))\n",
        "sns.heatmap(correlations)"
      ],
      "execution_count": null,
      "outputs": [
        {
          "output_type": "execute_result",
          "data": {
            "text/plain": [
              "<matplotlib.axes._subplots.AxesSubplot at 0x7fb6e0d3fb20>"
            ]
          },
          "metadata": {
            "tags": []
          },
          "execution_count": 173
        },
        {
          "output_type": "display_data",
          "data": {
            "image/png": "[encoded data removed]",
            "text/plain": [
              "<Figure size 1152x1152 with 2 Axes>"
            ]
          },
          "metadata": {
            "tags": [],
            "needs_background": "light"
          }
        }
      ]
    },
    {
      "cell_type": "code",
      "metadata": {
        "id": "YGktadoat6wR",
        "outputId": "bc9cf511-1b5a-4ddb-93a8-044c38232f72"
      },
      "source": [
        "uncorr_features = correlations['price'][correlations['price'] > -0.05]\n",
        "uncorr_features = uncorr_features[uncorr_features < 0.05]\n",
        "uncorr_features.index"
      ],
      "execution_count": null,
      "outputs": [
        {
          "output_type": "execute_result",
          "data": {
            "text/plain": [
              "Index(['ber_classification', 'surface'], dtype='object')"
            ]
          },
          "metadata": {
            "tags": []
          },
          "execution_count": 174
        }
      ]
    },
    {
      "cell_type": "code",
      "metadata": {
        "id": "QWqrIYSrt6wR",
        "outputId": "2dbfa186-c713-4392-845b-57ef437733e5"
      },
      "source": [
        "new_data"
      ],
      "execution_count": null,
      "outputs": [
        {
          "output_type": "execute_result",
          "data": {
            "text/html": [
              "<div>\n",
              "<style scoped>\n",
              "    .dataframe tbody tr th:only-of-type {\n",
              "        vertical-align: middle;\n",
              "    }\n",
              "\n",
              "    .dataframe tbody tr th {\n",
              "        vertical-align: top;\n",
              "    }\n",
              "\n",
              "    .dataframe thead th {\n",
              "        text-align: right;\n",
              "    }\n",
              "</style>\n",
              "<table border=\"1\" class=\"dataframe\">\n",
              "  <thead>\n",
              "    <tr style=\"text-align: right;\">\n",
              "      <th></th>\n",
              "      <th>bathrooms</th>\n",
              "      <th>beds</th>\n",
              "      <th>ber_classification</th>\n",
              "      <th>latitude</th>\n",
              "      <th>longitude</th>\n",
              "      <th>price</th>\n",
              "      <th>property_type</th>\n",
              "      <th>surface</th>\n",
              "    </tr>\n",
              "    <tr>\n",
              "      <th>ad_id</th>\n",
              "      <th></th>\n",
              "      <th></th>\n",
              "      <th></th>\n",
              "      <th></th>\n",
              "      <th></th>\n",
              "      <th></th>\n",
              "      <th></th>\n",
              "      <th></th>\n",
              "    </tr>\n",
              "  </thead>\n",
              "  <tbody>\n",
              "    <tr>\n",
              "      <th>996887</th>\n",
              "      <td>1.0</td>\n",
              "      <td>3.0</td>\n",
              "      <td>0</td>\n",
              "      <td>53.418216</td>\n",
              "      <td>-6.149329</td>\n",
              "      <td>295000.0</td>\n",
              "      <td>0</td>\n",
              "      <td>80.0</td>\n",
              "    </tr>\n",
              "    <tr>\n",
              "      <th>999327</th>\n",
              "      <td>1.0</td>\n",
              "      <td>3.0</td>\n",
              "      <td>0</td>\n",
              "      <td>53.364917</td>\n",
              "      <td>-6.454935</td>\n",
              "      <td>295000.0</td>\n",
              "      <td>0</td>\n",
              "      <td>80.0</td>\n",
              "    </tr>\n",
              "    <tr>\n",
              "      <th>999559</th>\n",
              "      <td>1.0</td>\n",
              "      <td>3.0</td>\n",
              "      <td>0</td>\n",
              "      <td>53.273447</td>\n",
              "      <td>-6.313821</td>\n",
              "      <td>295000.0</td>\n",
              "      <td>0</td>\n",
              "      <td>80.0</td>\n",
              "    </tr>\n",
              "    <tr>\n",
              "      <th>9102986</th>\n",
              "      <td>1.0</td>\n",
              "      <td>3.0</td>\n",
              "      <td>0</td>\n",
              "      <td>53.608167</td>\n",
              "      <td>-6.210914</td>\n",
              "      <td>295000.0</td>\n",
              "      <td>0</td>\n",
              "      <td>80.0</td>\n",
              "    </tr>\n",
              "    <tr>\n",
              "      <th>9106028</th>\n",
              "      <td>1.0</td>\n",
              "      <td>3.0</td>\n",
              "      <td>0</td>\n",
              "      <td>53.262531</td>\n",
              "      <td>-6.181527</td>\n",
              "      <td>295000.0</td>\n",
              "      <td>0</td>\n",
              "      <td>80.0</td>\n",
              "    </tr>\n",
              "    <tr>\n",
              "      <th>...</th>\n",
              "      <td>...</td>\n",
              "      <td>...</td>\n",
              "      <td>...</td>\n",
              "      <td>...</td>\n",
              "      <td>...</td>\n",
              "      <td>...</td>\n",
              "      <td>...</td>\n",
              "      <td>...</td>\n",
              "    </tr>\n",
              "    <tr>\n",
              "      <th>12428232</th>\n",
              "      <td>2.0</td>\n",
              "      <td>2.0</td>\n",
              "      <td>8</td>\n",
              "      <td>53.338738</td>\n",
              "      <td>-6.237199</td>\n",
              "      <td>415000.0</td>\n",
              "      <td>3</td>\n",
              "      <td>56.0</td>\n",
              "    </tr>\n",
              "    <tr>\n",
              "      <th>12428240</th>\n",
              "      <td>1.0</td>\n",
              "      <td>3.0</td>\n",
              "      <td>11</td>\n",
              "      <td>53.335793</td>\n",
              "      <td>-6.294268</td>\n",
              "      <td>485000.0</td>\n",
              "      <td>4</td>\n",
              "      <td>101.0</td>\n",
              "    </tr>\n",
              "    <tr>\n",
              "      <th>12428247</th>\n",
              "      <td>1.0</td>\n",
              "      <td>2.0</td>\n",
              "      <td>8</td>\n",
              "      <td>53.346098</td>\n",
              "      <td>-6.276856</td>\n",
              "      <td>299000.0</td>\n",
              "      <td>3</td>\n",
              "      <td>55.6</td>\n",
              "    </tr>\n",
              "    <tr>\n",
              "      <th>12428254</th>\n",
              "      <td>2.0</td>\n",
              "      <td>3.0</td>\n",
              "      <td>8</td>\n",
              "      <td>53.273518</td>\n",
              "      <td>-6.178500</td>\n",
              "      <td>495000.0</td>\n",
              "      <td>8</td>\n",
              "      <td>97.0</td>\n",
              "    </tr>\n",
              "    <tr>\n",
              "      <th>12428358</th>\n",
              "      <td>2.0</td>\n",
              "      <td>3.0</td>\n",
              "      <td>9</td>\n",
              "      <td>53.310073</td>\n",
              "      <td>-6.325158</td>\n",
              "      <td>525000.0</td>\n",
              "      <td>2</td>\n",
              "      <td>129.3</td>\n",
              "    </tr>\n",
              "  </tbody>\n",
              "</table>\n",
              "<p>2982 rows × 8 columns</p>\n",
              "</div>"
            ],
            "text/plain": [
              "          bathrooms  beds  ber_classification   latitude  longitude     price  \\\n",
              "ad_id                                                                           \n",
              "996887          1.0   3.0                   0  53.418216  -6.149329  295000.0   \n",
              "999327          1.0   3.0                   0  53.364917  -6.454935  295000.0   \n",
              "999559          1.0   3.0                   0  53.273447  -6.313821  295000.0   \n",
              "9102986         1.0   3.0                   0  53.608167  -6.210914  295000.0   \n",
              "9106028         1.0   3.0                   0  53.262531  -6.181527  295000.0   \n",
              "...             ...   ...                 ...        ...        ...       ...   \n",
              "12428232        2.0   2.0                   8  53.338738  -6.237199  415000.0   \n",
              "12428240        1.0   3.0                  11  53.335793  -6.294268  485000.0   \n",
              "12428247        1.0   2.0                   8  53.346098  -6.276856  299000.0   \n",
              "12428254        2.0   3.0                   8  53.273518  -6.178500  495000.0   \n",
              "12428358        2.0   3.0                   9  53.310073  -6.325158  525000.0   \n",
              "\n",
              "          property_type  surface  \n",
              "ad_id                             \n",
              "996887                0     80.0  \n",
              "999327                0     80.0  \n",
              "999559                0     80.0  \n",
              "9102986               0     80.0  \n",
              "9106028               0     80.0  \n",
              "...                 ...      ...  \n",
              "12428232              3     56.0  \n",
              "12428240              4    101.0  \n",
              "12428247              3     55.6  \n",
              "12428254              8     97.0  \n",
              "12428358              2    129.3  \n",
              "\n",
              "[2982 rows x 8 columns]"
            ]
          },
          "metadata": {
            "tags": []
          },
          "execution_count": 175
        }
      ]
    },
    {
      "cell_type": "code",
      "metadata": {
        "id": "xlhqpxPet6wR"
      },
      "source": [
        "new_data.drop(uncorr_features.index[1:], axis=1, inplace=True)"
      ],
      "execution_count": null,
      "outputs": []
    },
    {
      "cell_type": "code",
      "metadata": {
        "id": "YV80Q9X_t6wR",
        "outputId": "d90f7e91-dfda-494d-81b6-18fe07f646fc"
      },
      "source": [
        "new_data"
      ],
      "execution_count": null,
      "outputs": [
        {
          "output_type": "execute_result",
          "data": {
            "text/html": [
              "<div>\n",
              "<style scoped>\n",
              "    .dataframe tbody tr th:only-of-type {\n",
              "        vertical-align: middle;\n",
              "    }\n",
              "\n",
              "    .dataframe tbody tr th {\n",
              "        vertical-align: top;\n",
              "    }\n",
              "\n",
              "    .dataframe thead th {\n",
              "        text-align: right;\n",
              "    }\n",
              "</style>\n",
              "<table border=\"1\" class=\"dataframe\">\n",
              "  <thead>\n",
              "    <tr style=\"text-align: right;\">\n",
              "      <th></th>\n",
              "      <th>bathrooms</th>\n",
              "      <th>beds</th>\n",
              "      <th>ber_classification</th>\n",
              "      <th>latitude</th>\n",
              "      <th>longitude</th>\n",
              "      <th>price</th>\n",
              "      <th>property_type</th>\n",
              "    </tr>\n",
              "    <tr>\n",
              "      <th>ad_id</th>\n",
              "      <th></th>\n",
              "      <th></th>\n",
              "      <th></th>\n",
              "      <th></th>\n",
              "      <th></th>\n",
              "      <th></th>\n",
              "      <th></th>\n",
              "    </tr>\n",
              "  </thead>\n",
              "  <tbody>\n",
              "    <tr>\n",
              "      <th>996887</th>\n",
              "      <td>1.0</td>\n",
              "      <td>3.0</td>\n",
              "      <td>0</td>\n",
              "      <td>53.418216</td>\n",
              "      <td>-6.149329</td>\n",
              "      <td>295000.0</td>\n",
              "      <td>0</td>\n",
              "    </tr>\n",
              "    <tr>\n",
              "      <th>999327</th>\n",
              "      <td>1.0</td>\n",
              "      <td>3.0</td>\n",
              "      <td>0</td>\n",
              "      <td>53.364917</td>\n",
              "      <td>-6.454935</td>\n",
              "      <td>295000.0</td>\n",
              "      <td>0</td>\n",
              "    </tr>\n",
              "    <tr>\n",
              "      <th>999559</th>\n",
              "      <td>1.0</td>\n",
              "      <td>3.0</td>\n",
              "      <td>0</td>\n",
              "      <td>53.273447</td>\n",
              "      <td>-6.313821</td>\n",
              "      <td>295000.0</td>\n",
              "      <td>0</td>\n",
              "    </tr>\n",
              "    <tr>\n",
              "      <th>9102986</th>\n",
              "      <td>1.0</td>\n",
              "      <td>3.0</td>\n",
              "      <td>0</td>\n",
              "      <td>53.608167</td>\n",
              "      <td>-6.210914</td>\n",
              "      <td>295000.0</td>\n",
              "      <td>0</td>\n",
              "    </tr>\n",
              "    <tr>\n",
              "      <th>9106028</th>\n",
              "      <td>1.0</td>\n",
              "      <td>3.0</td>\n",
              "      <td>0</td>\n",
              "      <td>53.262531</td>\n",
              "      <td>-6.181527</td>\n",
              "      <td>295000.0</td>\n",
              "      <td>0</td>\n",
              "    </tr>\n",
              "    <tr>\n",
              "      <th>...</th>\n",
              "      <td>...</td>\n",
              "      <td>...</td>\n",
              "      <td>...</td>\n",
              "      <td>...</td>\n",
              "      <td>...</td>\n",
              "      <td>...</td>\n",
              "      <td>...</td>\n",
              "    </tr>\n",
              "    <tr>\n",
              "      <th>12428232</th>\n",
              "      <td>2.0</td>\n",
              "      <td>2.0</td>\n",
              "      <td>8</td>\n",
              "      <td>53.338738</td>\n",
              "      <td>-6.237199</td>\n",
              "      <td>415000.0</td>\n",
              "      <td>3</td>\n",
              "    </tr>\n",
              "    <tr>\n",
              "      <th>12428240</th>\n",
              "      <td>1.0</td>\n",
              "      <td>3.0</td>\n",
              "      <td>11</td>\n",
              "      <td>53.335793</td>\n",
              "      <td>-6.294268</td>\n",
              "      <td>485000.0</td>\n",
              "      <td>4</td>\n",
              "    </tr>\n",
              "    <tr>\n",
              "      <th>12428247</th>\n",
              "      <td>1.0</td>\n",
              "      <td>2.0</td>\n",
              "      <td>8</td>\n",
              "      <td>53.346098</td>\n",
              "      <td>-6.276856</td>\n",
              "      <td>299000.0</td>\n",
              "      <td>3</td>\n",
              "    </tr>\n",
              "    <tr>\n",
              "      <th>12428254</th>\n",
              "      <td>2.0</td>\n",
              "      <td>3.0</td>\n",
              "      <td>8</td>\n",
              "      <td>53.273518</td>\n",
              "      <td>-6.178500</td>\n",
              "      <td>495000.0</td>\n",
              "      <td>8</td>\n",
              "    </tr>\n",
              "    <tr>\n",
              "      <th>12428358</th>\n",
              "      <td>2.0</td>\n",
              "      <td>3.0</td>\n",
              "      <td>9</td>\n",
              "      <td>53.310073</td>\n",
              "      <td>-6.325158</td>\n",
              "      <td>525000.0</td>\n",
              "      <td>2</td>\n",
              "    </tr>\n",
              "  </tbody>\n",
              "</table>\n",
              "<p>2982 rows × 7 columns</p>\n",
              "</div>"
            ],
            "text/plain": [
              "          bathrooms  beds  ber_classification   latitude  longitude     price  \\\n",
              "ad_id                                                                           \n",
              "996887          1.0   3.0                   0  53.418216  -6.149329  295000.0   \n",
              "999327          1.0   3.0                   0  53.364917  -6.454935  295000.0   \n",
              "999559          1.0   3.0                   0  53.273447  -6.313821  295000.0   \n",
              "9102986         1.0   3.0                   0  53.608167  -6.210914  295000.0   \n",
              "9106028         1.0   3.0                   0  53.262531  -6.181527  295000.0   \n",
              "...             ...   ...                 ...        ...        ...       ...   \n",
              "12428232        2.0   2.0                   8  53.338738  -6.237199  415000.0   \n",
              "12428240        1.0   3.0                  11  53.335793  -6.294268  485000.0   \n",
              "12428247        1.0   2.0                   8  53.346098  -6.276856  299000.0   \n",
              "12428254        2.0   3.0                   8  53.273518  -6.178500  495000.0   \n",
              "12428358        2.0   3.0                   9  53.310073  -6.325158  525000.0   \n",
              "\n",
              "          property_type  \n",
              "ad_id                    \n",
              "996887                0  \n",
              "999327                0  \n",
              "999559                0  \n",
              "9102986               0  \n",
              "9106028               0  \n",
              "...                 ...  \n",
              "12428232              3  \n",
              "12428240              4  \n",
              "12428247              3  \n",
              "12428254              8  \n",
              "12428358              2  \n",
              "\n",
              "[2982 rows x 7 columns]"
            ]
          },
          "metadata": {
            "tags": []
          },
          "execution_count": 27
        }
      ]
    },
    {
      "cell_type": "code",
      "metadata": {
        "id": "j3jLNHrnt6wS"
      },
      "source": [
        "def process_data(data):\n",
        "    unwanted_features = [\n",
        "    'facility','area','description_block','environment','no_of_units','property_category','features','county','ber_classification', 'surface'\n",
        "]\n",
        "    new_data = data.drop(unwanted_features, axis=1)\n",
        "    nan_meaning_features = ['property_type']\n",
        "    for col in nan_meaning_features:\n",
        "        new_data[col].fillna(0, inplace=True)\n",
        "    # fill nan values with most frequency value\n",
        "    nan_features = ['bathrooms', 'beds','price']\n",
        "    for col in nan_features:\n",
        "        if(col in data.columns):\n",
        "            \n",
        "            new_data[col].fillna(new_data[col].mode().iat[0], inplace=True)\n",
        "    # map categorical values\n",
        "    # map categorical values\n",
        "    #new_data['ber_classification'] = new_data['ber_classification'].map({0:0 ,'A3':1 ,'A2':2 ,'E2':3, 'G':4, 'C1':5 ,'F':6 ,'C2':7, 'C3':8, 'D2':9, 'D1':10 ,'B2':11 ,'E1':12, 'SINo666of2006exempt':13,'B3':14, 'B1':15, 'A1': 16})\n",
        "    new_data['property_type'] = new_data['property_type'].map({0:0, 'detached':1, 'semi-detached':2, 'apartment':3, 'terraced':4,'site':5, 'bungalow':6\n",
        " ,'townhouse':7, 'end-of-terrace':8, 'duplex':9, 'studio':10})\n",
        "    \n",
        "    return new_data"
      ],
      "execution_count": null,
      "outputs": []
    },
    {
      "cell_type": "code",
      "metadata": {
        "id": "X6GkV3Qqt6wS",
        "outputId": "7277ee7f-2fb3-48e7-a2e4-19f62b0f6efc"
      },
      "source": [
        "train_data"
      ],
      "execution_count": null,
      "outputs": [
        {
          "output_type": "execute_result",
          "data": {
            "text/html": [
              "<div>\n",
              "<style scoped>\n",
              "    .dataframe tbody tr th:only-of-type {\n",
              "        vertical-align: middle;\n",
              "    }\n",
              "\n",
              "    .dataframe tbody tr th {\n",
              "        vertical-align: top;\n",
              "    }\n",
              "\n",
              "    .dataframe thead th {\n",
              "        text-align: right;\n",
              "    }\n",
              "</style>\n",
              "<table border=\"1\" class=\"dataframe\">\n",
              "  <thead>\n",
              "    <tr style=\"text-align: right;\">\n",
              "      <th></th>\n",
              "      <th>area</th>\n",
              "      <th>bathrooms</th>\n",
              "      <th>beds</th>\n",
              "      <th>ber_classification</th>\n",
              "      <th>county</th>\n",
              "      <th>description_block</th>\n",
              "      <th>environment</th>\n",
              "      <th>facility</th>\n",
              "      <th>features</th>\n",
              "      <th>latitude</th>\n",
              "      <th>longitude</th>\n",
              "      <th>no_of_units</th>\n",
              "      <th>price</th>\n",
              "      <th>property_category</th>\n",
              "      <th>property_type</th>\n",
              "      <th>surface</th>\n",
              "    </tr>\n",
              "    <tr>\n",
              "      <th>ad_id</th>\n",
              "      <th></th>\n",
              "      <th></th>\n",
              "      <th></th>\n",
              "      <th></th>\n",
              "      <th></th>\n",
              "      <th></th>\n",
              "      <th></th>\n",
              "      <th></th>\n",
              "      <th></th>\n",
              "      <th></th>\n",
              "      <th></th>\n",
              "      <th></th>\n",
              "      <th></th>\n",
              "      <th></th>\n",
              "      <th></th>\n",
              "      <th></th>\n",
              "    </tr>\n",
              "  </thead>\n",
              "  <tbody>\n",
              "    <tr>\n",
              "      <th>996887</th>\n",
              "      <td>Portmarnock</td>\n",
              "      <td>NaN</td>\n",
              "      <td>NaN</td>\n",
              "      <td>NaN</td>\n",
              "      <td>Dublin</td>\n",
              "      <td>A SELECTION OF 4 AND 5 BEDROOM FAMILY HOMES LO...</td>\n",
              "      <td>prod</td>\n",
              "      <td>NaN</td>\n",
              "      <td>None</td>\n",
              "      <td>53.418216</td>\n",
              "      <td>-6.149329</td>\n",
              "      <td>18.0</td>\n",
              "      <td>NaN</td>\n",
              "      <td>new_development_parent</td>\n",
              "      <td>NaN</td>\n",
              "      <td>NaN</td>\n",
              "    </tr>\n",
              "    <tr>\n",
              "      <th>999327</th>\n",
              "      <td>Lucan</td>\n",
              "      <td>NaN</td>\n",
              "      <td>NaN</td>\n",
              "      <td>NaN</td>\n",
              "      <td>Dublin</td>\n",
              "      <td>**Last 2 remaining houses for sale ***\\n\\nOn v...</td>\n",
              "      <td>prod</td>\n",
              "      <td>NaN</td>\n",
              "      <td>None</td>\n",
              "      <td>53.364917</td>\n",
              "      <td>-6.454935</td>\n",
              "      <td>3.0</td>\n",
              "      <td>NaN</td>\n",
              "      <td>new_development_parent</td>\n",
              "      <td>NaN</td>\n",
              "      <td>NaN</td>\n",
              "    </tr>\n",
              "    <tr>\n",
              "      <th>999559</th>\n",
              "      <td>Rathfarnham</td>\n",
              "      <td>NaN</td>\n",
              "      <td>NaN</td>\n",
              "      <td>NaN</td>\n",
              "      <td>Dublin</td>\n",
              "      <td>Final 4 &amp;amp; 5 Bedroom Homes for Sale\\n\\nOn V...</td>\n",
              "      <td>prod</td>\n",
              "      <td>NaN</td>\n",
              "      <td>None</td>\n",
              "      <td>53.273447</td>\n",
              "      <td>-6.313821</td>\n",
              "      <td>3.0</td>\n",
              "      <td>NaN</td>\n",
              "      <td>new_development_parent</td>\n",
              "      <td>NaN</td>\n",
              "      <td>NaN</td>\n",
              "    </tr>\n",
              "    <tr>\n",
              "      <th>9102986</th>\n",
              "      <td>Balbriggan</td>\n",
              "      <td>NaN</td>\n",
              "      <td>NaN</td>\n",
              "      <td>NaN</td>\n",
              "      <td>Dublin</td>\n",
              "      <td>Glenveagh Taylor Hill, Balbriggan\\n\\r\\n*Ideal ...</td>\n",
              "      <td>prod</td>\n",
              "      <td>NaN</td>\n",
              "      <td>None</td>\n",
              "      <td>53.608167</td>\n",
              "      <td>-6.210914</td>\n",
              "      <td>30.0</td>\n",
              "      <td>NaN</td>\n",
              "      <td>new_development_parent</td>\n",
              "      <td>NaN</td>\n",
              "      <td>NaN</td>\n",
              "    </tr>\n",
              "    <tr>\n",
              "      <th>9106028</th>\n",
              "      <td>Foxrock</td>\n",
              "      <td>NaN</td>\n",
              "      <td>NaN</td>\n",
              "      <td>NaN</td>\n",
              "      <td>Dublin</td>\n",
              "      <td>*New phase launching this weekend Sat &amp;amp; Su...</td>\n",
              "      <td>prod</td>\n",
              "      <td>NaN</td>\n",
              "      <td>None</td>\n",
              "      <td>53.262531</td>\n",
              "      <td>-6.181527</td>\n",
              "      <td>8.0</td>\n",
              "      <td>NaN</td>\n",
              "      <td>new_development_parent</td>\n",
              "      <td>NaN</td>\n",
              "      <td>NaN</td>\n",
              "    </tr>\n",
              "    <tr>\n",
              "      <th>...</th>\n",
              "      <td>...</td>\n",
              "      <td>...</td>\n",
              "      <td>...</td>\n",
              "      <td>...</td>\n",
              "      <td>...</td>\n",
              "      <td>...</td>\n",
              "      <td>...</td>\n",
              "      <td>...</td>\n",
              "      <td>...</td>\n",
              "      <td>...</td>\n",
              "      <td>...</td>\n",
              "      <td>...</td>\n",
              "      <td>...</td>\n",
              "      <td>...</td>\n",
              "      <td>...</td>\n",
              "      <td>...</td>\n",
              "    </tr>\n",
              "    <tr>\n",
              "      <th>12428232</th>\n",
              "      <td>Ballsbridge</td>\n",
              "      <td>2.0</td>\n",
              "      <td>2.0</td>\n",
              "      <td>C3</td>\n",
              "      <td>Dublin</td>\n",
              "      <td>Sherry FitzGerald are delighted to present Apa...</td>\n",
              "      <td>prod</td>\n",
              "      <td>NaN</td>\n",
              "      <td>Prime Location\\nManagement Co: Core Property M...</td>\n",
              "      <td>53.338738</td>\n",
              "      <td>-6.237199</td>\n",
              "      <td>NaN</td>\n",
              "      <td>415000.0</td>\n",
              "      <td>sale</td>\n",
              "      <td>apartment</td>\n",
              "      <td>56.0</td>\n",
              "    </tr>\n",
              "    <tr>\n",
              "      <th>12428240</th>\n",
              "      <td>Rialto</td>\n",
              "      <td>1.0</td>\n",
              "      <td>3.0</td>\n",
              "      <td>B2</td>\n",
              "      <td>Dublin</td>\n",
              "      <td>Property Team Patrick Moran is delighted to pr...</td>\n",
              "      <td>prod</td>\n",
              "      <td>NaN</td>\n",
              "      <td>Totally refurbished to the highest standard. \\...</td>\n",
              "      <td>53.335793</td>\n",
              "      <td>-6.294268</td>\n",
              "      <td>NaN</td>\n",
              "      <td>485000.0</td>\n",
              "      <td>sale</td>\n",
              "      <td>terraced</td>\n",
              "      <td>101.0</td>\n",
              "    </tr>\n",
              "    <tr>\n",
              "      <th>12428247</th>\n",
              "      <td>Smithfield</td>\n",
              "      <td>1.0</td>\n",
              "      <td>2.0</td>\n",
              "      <td>C3</td>\n",
              "      <td>Dublin</td>\n",
              "      <td>Earnest estate agents are delighted to present...</td>\n",
              "      <td>prod</td>\n",
              "      <td>Wired for Cable Television</td>\n",
              "      <td>OVERLOOKING THE RIVER LIFFEY \\n3RD FLOOR APART...</td>\n",
              "      <td>53.346098</td>\n",
              "      <td>-6.276856</td>\n",
              "      <td>NaN</td>\n",
              "      <td>299000.0</td>\n",
              "      <td>sale</td>\n",
              "      <td>apartment</td>\n",
              "      <td>55.6</td>\n",
              "    </tr>\n",
              "    <tr>\n",
              "      <th>12428254</th>\n",
              "      <td>Foxrock</td>\n",
              "      <td>2.0</td>\n",
              "      <td>3.0</td>\n",
              "      <td>C3</td>\n",
              "      <td>Dublin</td>\n",
              "      <td>Janet Carroll Estate Agents are pleased to pre...</td>\n",
              "      <td>prod</td>\n",
              "      <td>Parking,Gas Fired Central Heating</td>\n",
              "      <td>None</td>\n",
              "      <td>53.273518</td>\n",
              "      <td>-6.178500</td>\n",
              "      <td>NaN</td>\n",
              "      <td>495000.0</td>\n",
              "      <td>sale</td>\n",
              "      <td>end-of-terrace</td>\n",
              "      <td>97.0</td>\n",
              "    </tr>\n",
              "    <tr>\n",
              "      <th>12428358</th>\n",
              "      <td>Terenure</td>\n",
              "      <td>2.0</td>\n",
              "      <td>3.0</td>\n",
              "      <td>D2</td>\n",
              "      <td>Dublin</td>\n",
              "      <td>ON VIEW SATURDAY 7 TH MARCH 2020 11:30 AM - 12...</td>\n",
              "      <td>prod</td>\n",
              "      <td>NaN</td>\n",
              "      <td>Charming three-bedroom family home\\nMinutes aw...</td>\n",
              "      <td>53.310073</td>\n",
              "      <td>-6.325158</td>\n",
              "      <td>NaN</td>\n",
              "      <td>525000.0</td>\n",
              "      <td>sale</td>\n",
              "      <td>semi-detached</td>\n",
              "      <td>129.3</td>\n",
              "    </tr>\n",
              "  </tbody>\n",
              "</table>\n",
              "<p>2982 rows × 16 columns</p>\n",
              "</div>"
            ],
            "text/plain": [
              "                 area  bathrooms  beds ber_classification  county  \\\n",
              "ad_id                                                               \n",
              "996887    Portmarnock        NaN   NaN                NaN  Dublin   \n",
              "999327          Lucan        NaN   NaN                NaN  Dublin   \n",
              "999559    Rathfarnham        NaN   NaN                NaN  Dublin   \n",
              "9102986    Balbriggan        NaN   NaN                NaN  Dublin   \n",
              "9106028       Foxrock        NaN   NaN                NaN  Dublin   \n",
              "...               ...        ...   ...                ...     ...   \n",
              "12428232  Ballsbridge        2.0   2.0                 C3  Dublin   \n",
              "12428240       Rialto        1.0   3.0                 B2  Dublin   \n",
              "12428247   Smithfield        1.0   2.0                 C3  Dublin   \n",
              "12428254      Foxrock        2.0   3.0                 C3  Dublin   \n",
              "12428358     Terenure        2.0   3.0                 D2  Dublin   \n",
              "\n",
              "                                          description_block environment  \\\n",
              "ad_id                                                                     \n",
              "996887    A SELECTION OF 4 AND 5 BEDROOM FAMILY HOMES LO...        prod   \n",
              "999327    **Last 2 remaining houses for sale ***\\n\\nOn v...        prod   \n",
              "999559    Final 4 &amp; 5 Bedroom Homes for Sale\\n\\nOn V...        prod   \n",
              "9102986   Glenveagh Taylor Hill, Balbriggan\\n\\r\\n*Ideal ...        prod   \n",
              "9106028   *New phase launching this weekend Sat &amp; Su...        prod   \n",
              "...                                                     ...         ...   \n",
              "12428232  Sherry FitzGerald are delighted to present Apa...        prod   \n",
              "12428240  Property Team Patrick Moran is delighted to pr...        prod   \n",
              "12428247  Earnest estate agents are delighted to present...        prod   \n",
              "12428254  Janet Carroll Estate Agents are pleased to pre...        prod   \n",
              "12428358  ON VIEW SATURDAY 7 TH MARCH 2020 11:30 AM - 12...        prod   \n",
              "\n",
              "                                   facility  \\\n",
              "ad_id                                         \n",
              "996887                                  NaN   \n",
              "999327                                  NaN   \n",
              "999559                                  NaN   \n",
              "9102986                                 NaN   \n",
              "9106028                                 NaN   \n",
              "...                                     ...   \n",
              "12428232                                NaN   \n",
              "12428240                                NaN   \n",
              "12428247         Wired for Cable Television   \n",
              "12428254  Parking,Gas Fired Central Heating   \n",
              "12428358                                NaN   \n",
              "\n",
              "                                                   features   latitude  \\\n",
              "ad_id                                                                    \n",
              "996887                                                 None  53.418216   \n",
              "999327                                                 None  53.364917   \n",
              "999559                                                 None  53.273447   \n",
              "9102986                                                None  53.608167   \n",
              "9106028                                                None  53.262531   \n",
              "...                                                     ...        ...   \n",
              "12428232  Prime Location\\nManagement Co: Core Property M...  53.338738   \n",
              "12428240  Totally refurbished to the highest standard. \\...  53.335793   \n",
              "12428247  OVERLOOKING THE RIVER LIFFEY \\n3RD FLOOR APART...  53.346098   \n",
              "12428254                                               None  53.273518   \n",
              "12428358  Charming three-bedroom family home\\nMinutes aw...  53.310073   \n",
              "\n",
              "          longitude  no_of_units     price       property_category  \\\n",
              "ad_id                                                                \n",
              "996887    -6.149329         18.0       NaN  new_development_parent   \n",
              "999327    -6.454935          3.0       NaN  new_development_parent   \n",
              "999559    -6.313821          3.0       NaN  new_development_parent   \n",
              "9102986   -6.210914         30.0       NaN  new_development_parent   \n",
              "9106028   -6.181527          8.0       NaN  new_development_parent   \n",
              "...             ...          ...       ...                     ...   \n",
              "12428232  -6.237199          NaN  415000.0                    sale   \n",
              "12428240  -6.294268          NaN  485000.0                    sale   \n",
              "12428247  -6.276856          NaN  299000.0                    sale   \n",
              "12428254  -6.178500          NaN  495000.0                    sale   \n",
              "12428358  -6.325158          NaN  525000.0                    sale   \n",
              "\n",
              "           property_type  surface  \n",
              "ad_id                              \n",
              "996887               NaN      NaN  \n",
              "999327               NaN      NaN  \n",
              "999559               NaN      NaN  \n",
              "9102986              NaN      NaN  \n",
              "9106028              NaN      NaN  \n",
              "...                  ...      ...  \n",
              "12428232       apartment     56.0  \n",
              "12428240        terraced    101.0  \n",
              "12428247       apartment     55.6  \n",
              "12428254  end-of-terrace     97.0  \n",
              "12428358   semi-detached    129.3  \n",
              "\n",
              "[2982 rows x 16 columns]"
            ]
          },
          "metadata": {
            "tags": []
          },
          "execution_count": 178
        }
      ]
    },
    {
      "cell_type": "code",
      "metadata": {
        "id": "-ZsD_Kn-t6wT"
      },
      "source": [
        "new_data = process_data(train_data)\n",
        "\n",
        "rows, cols = new_data.shape\n",
        "X_train =new_data.drop(['price'],axis=1)\n",
        "y_train = new_data['price']\n",
        "\n"
      ],
      "execution_count": null,
      "outputs": []
    },
    {
      "cell_type": "code",
      "metadata": {
        "id": "RBYripXct6wT"
      },
      "source": [
        "new_test_data = process_data(test_data)"
      ],
      "execution_count": null,
      "outputs": []
    },
    {
      "cell_type": "code",
      "metadata": {
        "id": "Oxg7V2art6wT"
      },
      "source": [
        "#MultinomialNB"
      ],
      "execution_count": null,
      "outputs": []
    },
    {
      "cell_type": "code",
      "metadata": {
        "id": "2WXs028pt6wT"
      },
      "source": [
        "from sklearn.model_selection import KFold, cross_val_score\n",
        "from sklearn.preprocessing import KBinsDiscretizer\n",
        "from sklearn.naive_bayes import MultinomialNB\n",
        "\n",
        "n_bins = 7\n",
        "\n",
        "#discretise\n",
        "est = KBinsDiscretizer(n_bins=n_bins,encode='onehot',strategy='uniform')\n",
        "est.fit(X_train)\n",
        "Xd_train = est.transform(X_train)\n",
        "Xd_test  = est.transform(new_test_data)\n",
        "clf = MultinomialNB() \n",
        "#training\n",
        "clf.fit(Xd_train, y_train)\n",
        "#prediction\n",
        "y_tr_pred  = clf.predict(Xd_train)\n",
        "#accuracy"
      ],
      "execution_count": null,
      "outputs": []
    },
    {
      "cell_type": "code",
      "metadata": {
        "id": "fdOW4Wkht6wU",
        "outputId": "d9279bb7-645b-46da-c4f1-1b6107331c62"
      },
      "source": [
        "#compute training error\n",
        "M = np.hstack([y_train[:,None],y_tr_pred[:,None]])\n",
        "M\n"
      ],
      "execution_count": null,
      "outputs": [
        {
          "output_type": "execute_result",
          "data": {
            "text/plain": [
              "array([[295000., 295000.],\n",
              "       [295000., 295000.],\n",
              "       [295000., 295000.],\n",
              "       ...,\n",
              "       [299000., 295000.],\n",
              "       [495000., 295000.],\n",
              "       [525000., 495000.]])"
            ]
          },
          "metadata": {
            "tags": []
          },
          "execution_count": 194
        }
      ]
    },
    {
      "cell_type": "code",
      "metadata": {
        "id": "cRAMQdSKt6wU",
        "outputId": "0335596f-e617-4d7e-aa10-78bbf6850789"
      },
      "source": [
        "MAPE_training = np.mean(np.abs(M[:,0]-M[:,1])/M[:,0])*100\n",
        "print(MAPE_training)"
      ],
      "execution_count": null,
      "outputs": [
        {
          "output_type": "stream",
          "text": [
            "32.82180637062842\n"
          ],
          "name": "stdout"
        }
      ]
    },
    {
      "cell_type": "code",
      "metadata": {
        "id": "kX6It-Zbt6wU"
      },
      "source": [
        "# linear regression"
      ],
      "execution_count": null,
      "outputs": []
    },
    {
      "cell_type": "code",
      "metadata": {
        "id": "UTv5pq8Mt6wU"
      },
      "source": [
        "lr = LinearRegression().fit(X_train, y_train)\n",
        "y_tr_pred=lr.predict(X_train)\n",
        "y_te_pred=lr.predict(new_test_data)"
      ],
      "execution_count": null,
      "outputs": []
    },
    {
      "cell_type": "code",
      "metadata": {
        "id": "kwhLQZgQt6wV",
        "outputId": "7fa385e3-2309-4f66-86ea-f22110d31cfd"
      },
      "source": [
        "#\n",
        "#compute training error for linear regression\n",
        "M = np.hstack([y_train[:,None],y_tr_pred[:,None]])\n",
        "M"
      ],
      "execution_count": null,
      "outputs": [
        {
          "output_type": "execute_result",
          "data": {
            "text/plain": [
              "array([[295000.        , 502904.76516735],\n",
              "       [295000.        , 411787.55521588],\n",
              "       [295000.        , 535627.97000888],\n",
              "       ...,\n",
              "       [299000.        , 312107.29677278],\n",
              "       [495000.        , 504106.04941148],\n",
              "       [525000.        , 565448.93963468]])"
            ]
          },
          "metadata": {
            "tags": []
          },
          "execution_count": 191
        }
      ]
    },
    {
      "cell_type": "code",
      "metadata": {
        "id": "-0IrFFKjt6wV",
        "outputId": "9ff3a322-9234-43c1-88f1-51ec58646ee3"
      },
      "source": [
        "# linear MAPE\n",
        "MAPE_training = np.mean(np.abs(M[:,0]-M[:,1])/M[:,0])*100\n",
        "print(MAPE_training)"
      ],
      "execution_count": null,
      "outputs": [
        {
          "output_type": "stream",
          "text": [
            "42.24544230447963\n"
          ],
          "name": "stdout"
        }
      ]
    },
    {
      "cell_type": "code",
      "metadata": {
        "id": "-5uIUJXdt6wW",
        "outputId": "a1c02f1e-6b71-4784-d76b-68cc042fe1d1"
      },
      "source": [
        "plt.scatter(X_train[['beds']],np.log(y_train))"
      ],
      "execution_count": null,
      "outputs": [
        {
          "output_type": "execute_result",
          "data": {
            "text/plain": [
              "<matplotlib.collections.PathCollection at 0x7fb6e0e2ad90>"
            ]
          },
          "metadata": {
            "tags": []
          },
          "execution_count": 36
        },
        {
          "output_type": "display_data",
          "data": {
            "image/png": "[encoded data removed]",
            "text/plain": [
              "<Figure size 432x288 with 1 Axes>"
            ]
          },
          "metadata": {
            "tags": [],
            "needs_background": "light"
          }
        }
      ]
    },
    {
      "cell_type": "code",
      "metadata": {
        "id": "Go2tkbAxt6wW"
      },
      "source": [
        ""
      ],
      "execution_count": null,
      "outputs": []
    },
    {
      "cell_type": "code",
      "metadata": {
        "id": "AlNJK46nt6wW",
        "outputId": "c52c7ce7-f453-4a75-ea17-aecb4180e542"
      },
      "source": [
        "new_test_data"
      ],
      "execution_count": null,
      "outputs": [
        {
          "output_type": "execute_result",
          "data": {
            "text/html": [
              "<div>\n",
              "<style scoped>\n",
              "    .dataframe tbody tr th:only-of-type {\n",
              "        vertical-align: middle;\n",
              "    }\n",
              "\n",
              "    .dataframe tbody tr th {\n",
              "        vertical-align: top;\n",
              "    }\n",
              "\n",
              "    .dataframe thead th {\n",
              "        text-align: right;\n",
              "    }\n",
              "</style>\n",
              "<table border=\"1\" class=\"dataframe\">\n",
              "  <thead>\n",
              "    <tr style=\"text-align: right;\">\n",
              "      <th></th>\n",
              "      <th>bathrooms</th>\n",
              "      <th>beds</th>\n",
              "      <th>latitude</th>\n",
              "      <th>longitude</th>\n",
              "      <th>property_type</th>\n",
              "    </tr>\n",
              "    <tr>\n",
              "      <th>ad_id</th>\n",
              "      <th></th>\n",
              "      <th></th>\n",
              "      <th></th>\n",
              "      <th></th>\n",
              "      <th></th>\n",
              "    </tr>\n",
              "  </thead>\n",
              "  <tbody>\n",
              "    <tr>\n",
              "      <th>12373510</th>\n",
              "      <td>2.0</td>\n",
              "      <td>4.0</td>\n",
              "      <td>53.566881</td>\n",
              "      <td>-6.101148</td>\n",
              "      <td>6</td>\n",
              "    </tr>\n",
              "    <tr>\n",
              "      <th>12422623</th>\n",
              "      <td>2.0</td>\n",
              "      <td>3.0</td>\n",
              "      <td>53.362992</td>\n",
              "      <td>-6.452909</td>\n",
              "      <td>4</td>\n",
              "    </tr>\n",
              "    <tr>\n",
              "      <th>12377408</th>\n",
              "      <td>3.0</td>\n",
              "      <td>4.0</td>\n",
              "      <td>53.454198</td>\n",
              "      <td>-6.262964</td>\n",
              "      <td>2</td>\n",
              "    </tr>\n",
              "    <tr>\n",
              "      <th>12420093</th>\n",
              "      <td>4.0</td>\n",
              "      <td>3.0</td>\n",
              "      <td>53.354402</td>\n",
              "      <td>-6.458647</td>\n",
              "      <td>2</td>\n",
              "    </tr>\n",
              "    <tr>\n",
              "      <th>12417338</th>\n",
              "      <td>1.0</td>\n",
              "      <td>3.0</td>\n",
              "      <td>53.336530</td>\n",
              "      <td>-6.393587</td>\n",
              "      <td>2</td>\n",
              "    </tr>\n",
              "    <tr>\n",
              "      <th>...</th>\n",
              "      <td>...</td>\n",
              "      <td>...</td>\n",
              "      <td>...</td>\n",
              "      <td>...</td>\n",
              "      <td>...</td>\n",
              "    </tr>\n",
              "    <tr>\n",
              "      <th>12369815</th>\n",
              "      <td>1.0</td>\n",
              "      <td>2.0</td>\n",
              "      <td>53.342207</td>\n",
              "      <td>-6.226101</td>\n",
              "      <td>3</td>\n",
              "    </tr>\n",
              "    <tr>\n",
              "      <th>12416011</th>\n",
              "      <td>3.0</td>\n",
              "      <td>5.0</td>\n",
              "      <td>53.261475</td>\n",
              "      <td>-6.147720</td>\n",
              "      <td>1</td>\n",
              "    </tr>\n",
              "    <tr>\n",
              "      <th>12232222</th>\n",
              "      <td>1.0</td>\n",
              "      <td>3.0</td>\n",
              "      <td>53.391619</td>\n",
              "      <td>-6.205157</td>\n",
              "      <td>1</td>\n",
              "    </tr>\n",
              "    <tr>\n",
              "      <th>11905630</th>\n",
              "      <td>2.0</td>\n",
              "      <td>4.0</td>\n",
              "      <td>53.360578</td>\n",
              "      <td>-6.183701</td>\n",
              "      <td>8</td>\n",
              "    </tr>\n",
              "    <tr>\n",
              "      <th>12394865</th>\n",
              "      <td>2.0</td>\n",
              "      <td>2.0</td>\n",
              "      <td>53.366827</td>\n",
              "      <td>-6.248329</td>\n",
              "      <td>3</td>\n",
              "    </tr>\n",
              "  </tbody>\n",
              "</table>\n",
              "<p>500 rows × 5 columns</p>\n",
              "</div>"
            ],
            "text/plain": [
              "          bathrooms  beds   latitude  longitude  property_type\n",
              "ad_id                                                         \n",
              "12373510        2.0   4.0  53.566881  -6.101148              6\n",
              "12422623        2.0   3.0  53.362992  -6.452909              4\n",
              "12377408        3.0   4.0  53.454198  -6.262964              2\n",
              "12420093        4.0   3.0  53.354402  -6.458647              2\n",
              "12417338        1.0   3.0  53.336530  -6.393587              2\n",
              "...             ...   ...        ...        ...            ...\n",
              "12369815        1.0   2.0  53.342207  -6.226101              3\n",
              "12416011        3.0   5.0  53.261475  -6.147720              1\n",
              "12232222        1.0   3.0  53.391619  -6.205157              1\n",
              "11905630        2.0   4.0  53.360578  -6.183701              8\n",
              "12394865        2.0   2.0  53.366827  -6.248329              3\n",
              "\n",
              "[500 rows x 5 columns]"
            ]
          },
          "metadata": {
            "tags": []
          },
          "execution_count": 37
        }
      ]
    },
    {
      "cell_type": "code",
      "metadata": {
        "id": "QIQ07r-Zt6wX",
        "outputId": "cf3fe21a-ef21-425f-f1bb-e8b8f3136a53"
      },
      "source": [
        "Prediction = pd.DataFrame()\n",
        "Prediction.insert(0, 'Id', new_test_data.index.values.astype(int))\n",
        "Prediction.insert(1, 'Predicted', y_te_pred)\n",
        "Prediction.to_csv(\"Prediction_feature_linear.csv\", index=False)#you can upload this file\n",
        "Prediction"
      ],
      "execution_count": null,
      "outputs": [
        {
          "output_type": "execute_result",
          "data": {
            "text/html": [
              "<div>\n",
              "<style scoped>\n",
              "    .dataframe tbody tr th:only-of-type {\n",
              "        vertical-align: middle;\n",
              "    }\n",
              "\n",
              "    .dataframe tbody tr th {\n",
              "        vertical-align: top;\n",
              "    }\n",
              "\n",
              "    .dataframe thead th {\n",
              "        text-align: right;\n",
              "    }\n",
              "</style>\n",
              "<table border=\"1\" class=\"dataframe\">\n",
              "  <thead>\n",
              "    <tr style=\"text-align: right;\">\n",
              "      <th></th>\n",
              "      <th>Id</th>\n",
              "      <th>Predicted</th>\n",
              "    </tr>\n",
              "  </thead>\n",
              "  <tbody>\n",
              "    <tr>\n",
              "      <th>0</th>\n",
              "      <td>12373510</td>\n",
              "      <td>4.931295e+05</td>\n",
              "    </tr>\n",
              "    <tr>\n",
              "      <th>1</th>\n",
              "      <td>12422623</td>\n",
              "      <td>4.247778e+05</td>\n",
              "    </tr>\n",
              "    <tr>\n",
              "      <th>2</th>\n",
              "      <td>12377408</td>\n",
              "      <td>7.136067e+05</td>\n",
              "    </tr>\n",
              "    <tr>\n",
              "      <th>3</th>\n",
              "      <td>12420093</td>\n",
              "      <td>6.980344e+05</td>\n",
              "    </tr>\n",
              "    <tr>\n",
              "      <th>4</th>\n",
              "      <td>12417338</td>\n",
              "      <td>4.079991e+05</td>\n",
              "    </tr>\n",
              "    <tr>\n",
              "      <th>...</th>\n",
              "      <td>...</td>\n",
              "      <td>...</td>\n",
              "    </tr>\n",
              "    <tr>\n",
              "      <th>495</th>\n",
              "      <td>12369815</td>\n",
              "      <td>3.362161e+05</td>\n",
              "    </tr>\n",
              "    <tr>\n",
              "      <th>496</th>\n",
              "      <td>12416011</td>\n",
              "      <td>1.036174e+06</td>\n",
              "    </tr>\n",
              "    <tr>\n",
              "      <th>497</th>\n",
              "      <td>12232222</td>\n",
              "      <td>4.733299e+05</td>\n",
              "    </tr>\n",
              "    <tr>\n",
              "      <th>498</th>\n",
              "      <td>11905630</td>\n",
              "      <td>5.540819e+05</td>\n",
              "    </tr>\n",
              "    <tr>\n",
              "      <th>499</th>\n",
              "      <td>12394865</td>\n",
              "      <td>4.195207e+05</td>\n",
              "    </tr>\n",
              "  </tbody>\n",
              "</table>\n",
              "<p>500 rows × 2 columns</p>\n",
              "</div>"
            ],
            "text/plain": [
              "           Id     Predicted\n",
              "0    12373510  4.931295e+05\n",
              "1    12422623  4.247778e+05\n",
              "2    12377408  7.136067e+05\n",
              "3    12420093  6.980344e+05\n",
              "4    12417338  4.079991e+05\n",
              "..        ...           ...\n",
              "495  12369815  3.362161e+05\n",
              "496  12416011  1.036174e+06\n",
              "497  12232222  4.733299e+05\n",
              "498  11905630  5.540819e+05\n",
              "499  12394865  4.195207e+05\n",
              "\n",
              "[500 rows x 2 columns]"
            ]
          },
          "metadata": {
            "tags": []
          },
          "execution_count": 43
        }
      ]
    },
    {
      "cell_type": "code",
      "metadata": {
        "id": "A2TLmvcit6wX"
      },
      "source": [
        "# Feature with SVC"
      ],
      "execution_count": null,
      "outputs": []
    },
    {
      "cell_type": "code",
      "metadata": {
        "id": "a6hfIIqtt6wX",
        "outputId": "e9a2495e-0cea-40d0-aedb-8ebd221b3a41"
      },
      "source": [
        "# fit scaler\n",
        "from sklearn.preprocessing import StandardScaler\n",
        "scaler = StandardScaler() # create an instance\n",
        "scaler.fit(X_train) #  fit  the scaler to the train set for later use"
      ],
      "execution_count": null,
      "outputs": [
        {
          "output_type": "execute_result",
          "data": {
            "text/plain": [
              "StandardScaler()"
            ]
          },
          "metadata": {
            "tags": []
          },
          "execution_count": 196
        }
      ]
    },
    {
      "cell_type": "code",
      "metadata": {
        "id": "llUeXDONt6wX"
      },
      "source": [
        "from sklearn.svm import SVR\n",
        "# feature scaling\n",
        "from sklearn.preprocessing import StandardScaler\n",
        "\n",
        "SVR_model = SVR()\n",
        "SVR_model.fit(scaler.transform(X_train), y_train)\n",
        "\n",
        "y_tr_pred = SVR_model.predict(scaler.transform(X_train))\n",
        "y_te_pred = SVR_model.predict(new_test_data)"
      ],
      "execution_count": null,
      "outputs": []
    },
    {
      "cell_type": "code",
      "metadata": {
        "id": "n1DSwxjUt6wY",
        "outputId": "f9a2f031-8de7-4653-b70b-03179db94990"
      },
      "source": [
        "#compute training error\n",
        "M = np.hstack([y_train[:,None],y_tr_pred[:,None]])\n",
        "M"
      ],
      "execution_count": null,
      "outputs": [
        {
          "output_type": "execute_result",
          "data": {
            "text/plain": [
              "array([[295000.        , 375087.5242638 ],\n",
              "       [295000.        , 374994.44401203],\n",
              "       [295000.        , 375087.30754277],\n",
              "       ...,\n",
              "       [299000.        , 374858.89292631],\n",
              "       [495000.        , 375081.90657406],\n",
              "       [525000.        , 375091.01710874]])"
            ]
          },
          "metadata": {
            "tags": []
          },
          "execution_count": 198
        }
      ]
    },
    {
      "cell_type": "code",
      "metadata": {
        "id": "QYg3Nhm0t6wY",
        "outputId": "48db1168-d644-4987-d081-c1265e3cdb65"
      },
      "source": [
        "#MAPE FOR svc\n",
        "MAPE_training = np.mean(np.abs(M[:,0]-M[:,1])/M[:,0])*100\n",
        "print(MAPE_training)"
      ],
      "execution_count": null,
      "outputs": [
        {
          "output_type": "stream",
          "text": [
            "40.20275216927052\n"
          ],
          "name": "stdout"
        }
      ]
    },
    {
      "cell_type": "code",
      "metadata": {
        "id": "T0rFjaTUt6wY"
      },
      "source": [
        "# Feature with gboost"
      ],
      "execution_count": null,
      "outputs": []
    },
    {
      "cell_type": "code",
      "metadata": {
        "id": "qRRxh0vHt6wZ",
        "outputId": "fede531f-bd62-4521-b31b-15da64f72237"
      },
      "source": [
        "import xgboost as xgb"
      ],
      "execution_count": null,
      "outputs": [
        {
          "output_type": "error",
          "ename": "ModuleNotFoundError",
          "evalue": "No module named 'xgboost'",
          "traceback": [
            "\u001b[0;31m---------------------------------------------------------------------------\u001b[0m",
            "\u001b[0;31mModuleNotFoundError\u001b[0m                       Traceback (most recent call last)",
            "\u001b[0;32m<ipython-input-40-5943d1bfe3f1>\u001b[0m in \u001b[0;36m<module>\u001b[0;34m\u001b[0m\n\u001b[0;32m----> 1\u001b[0;31m \u001b[0;32mimport\u001b[0m \u001b[0mxgboost\u001b[0m \u001b[0;32mas\u001b[0m \u001b[0mxgb\u001b[0m\u001b[0;34m\u001b[0m\u001b[0;34m\u001b[0m\u001b[0m\n\u001b[0m",
            "\u001b[0;31mModuleNotFoundError\u001b[0m: No module named 'xgboost'"
          ]
        }
      ]
    },
    {
      "cell_type": "code",
      "metadata": {
        "id": "3n3Wdn3lt6wZ",
        "outputId": "3b6e9b4e-f64d-4ede-c77e-e737a650ed60"
      },
      "source": [
        "rege=xgboost.XGBRegressor()\n",
        "rege.fit(X_train,y_train)"
      ],
      "execution_count": null,
      "outputs": [
        {
          "output_type": "execute_result",
          "data": {
            "text/plain": [
              "XGBRegressor(base_score=0.5, booster='gbtree', colsample_bylevel=1,\n",
              "             colsample_bynode=1, colsample_bytree=1, gamma=0, gpu_id=-1,\n",
              "             importance_type='gain', interaction_constraints='',\n",
              "             learning_rate=0.300000012, max_delta_step=0, max_depth=6,\n",
              "             min_child_weight=1, missing=nan, monotone_constraints='()',\n",
              "             n_estimators=100, n_jobs=4, num_parallel_tree=1, random_state=0,\n",
              "             reg_alpha=0, reg_lambda=1, scale_pos_weight=1, subsample=1,\n",
              "             tree_method='exact', validate_parameters=1, verbosity=None)"
            ]
          },
          "metadata": {
            "tags": []
          },
          "execution_count": 37
        }
      ]
    },
    {
      "cell_type": "code",
      "metadata": {
        "id": "jNPy8DfQt6wZ"
      },
      "source": [
        "y_tr_pred = rege.predict(X_train)\n",
        "y_te_pred = rege.predict(new_test_data)"
      ],
      "execution_count": null,
      "outputs": []
    },
    {
      "cell_type": "code",
      "metadata": {
        "id": "03lOEW2Zt6wa",
        "outputId": "a71e8bb6-9d0f-4751-b7ab-7db915b55a09"
      },
      "source": [
        "#compute training error\n",
        "M = np.hstack([y_train[:,None],y_tr_pred[:,None]])\n",
        "M"
      ],
      "execution_count": null,
      "outputs": [
        {
          "output_type": "execute_result",
          "data": {
            "text/plain": [
              "array([[295000.     , 288401.75   ],\n",
              "       [295000.     , 311620.40625],\n",
              "       [295000.     , 300445.75   ],\n",
              "       ...,\n",
              "       [299000.     , 311518.     ],\n",
              "       [495000.     , 497609.5    ],\n",
              "       [525000.     , 493593.5    ]])"
            ]
          },
          "metadata": {
            "tags": []
          },
          "execution_count": 40
        }
      ]
    },
    {
      "cell_type": "code",
      "metadata": {
        "id": "3kL13J_3t6wb",
        "outputId": "923b8859-dc9e-495e-e35a-fb9d8bc4e60d"
      },
      "source": [
        "MAPE_training = np.mean(np.abs(M[:,0]-M[:,1])/M[:,0])*100\n",
        "print(MAPE_training)"
      ],
      "execution_count": null,
      "outputs": [
        {
          "output_type": "stream",
          "text": [
            "9.83439486411915\n"
          ],
          "name": "stdout"
        }
      ]
    },
    {
      "cell_type": "code",
      "metadata": {
        "id": "yKFG0q_wt6wb",
        "outputId": "d48ea0a4-ebea-49e0-f73c-e0a77cd31f78"
      },
      "source": [
        "Prediction = pd.DataFrame()\n",
        "Prediction.insert(0, 'Id', new_test_data.index.values.astype(int))\n",
        "Prediction.insert(1, 'Predicted', y_te_pred)\n",
        "Prediction.to_csv(\"Prediction_feature_xboost.csv\", index=False)#you can upload this file\n",
        "Prediction"
      ],
      "execution_count": null,
      "outputs": [
        {
          "output_type": "execute_result",
          "data": {
            "text/html": [
              "<div>\n",
              "<style scoped>\n",
              "    .dataframe tbody tr th:only-of-type {\n",
              "        vertical-align: middle;\n",
              "    }\n",
              "\n",
              "    .dataframe tbody tr th {\n",
              "        vertical-align: top;\n",
              "    }\n",
              "\n",
              "    .dataframe thead th {\n",
              "        text-align: right;\n",
              "    }\n",
              "</style>\n",
              "<table border=\"1\" class=\"dataframe\">\n",
              "  <thead>\n",
              "    <tr style=\"text-align: right;\">\n",
              "      <th></th>\n",
              "      <th>Id</th>\n",
              "      <th>Predicted</th>\n",
              "    </tr>\n",
              "  </thead>\n",
              "  <tbody>\n",
              "    <tr>\n",
              "      <th>0</th>\n",
              "      <td>12373510</td>\n",
              "      <td>7.053850e+05</td>\n",
              "    </tr>\n",
              "    <tr>\n",
              "      <th>1</th>\n",
              "      <td>12422623</td>\n",
              "      <td>3.113942e+05</td>\n",
              "    </tr>\n",
              "    <tr>\n",
              "      <th>2</th>\n",
              "      <td>12377408</td>\n",
              "      <td>3.865826e+05</td>\n",
              "    </tr>\n",
              "    <tr>\n",
              "      <th>3</th>\n",
              "      <td>12420093</td>\n",
              "      <td>3.261927e+05</td>\n",
              "    </tr>\n",
              "    <tr>\n",
              "      <th>4</th>\n",
              "      <td>12417338</td>\n",
              "      <td>2.647602e+05</td>\n",
              "    </tr>\n",
              "    <tr>\n",
              "      <th>...</th>\n",
              "      <td>...</td>\n",
              "      <td>...</td>\n",
              "    </tr>\n",
              "    <tr>\n",
              "      <th>495</th>\n",
              "      <td>12369815</td>\n",
              "      <td>3.511871e+05</td>\n",
              "    </tr>\n",
              "    <tr>\n",
              "      <th>496</th>\n",
              "      <td>12416011</td>\n",
              "      <td>1.175974e+06</td>\n",
              "    </tr>\n",
              "    <tr>\n",
              "      <th>497</th>\n",
              "      <td>12232222</td>\n",
              "      <td>3.581058e+05</td>\n",
              "    </tr>\n",
              "    <tr>\n",
              "      <th>498</th>\n",
              "      <td>11905630</td>\n",
              "      <td>5.663911e+05</td>\n",
              "    </tr>\n",
              "    <tr>\n",
              "      <th>499</th>\n",
              "      <td>12394865</td>\n",
              "      <td>3.588821e+05</td>\n",
              "    </tr>\n",
              "  </tbody>\n",
              "</table>\n",
              "<p>500 rows × 2 columns</p>\n",
              "</div>"
            ],
            "text/plain": [
              "           Id     Predicted\n",
              "0    12373510  7.053850e+05\n",
              "1    12422623  3.113942e+05\n",
              "2    12377408  3.865826e+05\n",
              "3    12420093  3.261927e+05\n",
              "4    12417338  2.647602e+05\n",
              "..        ...           ...\n",
              "495  12369815  3.511871e+05\n",
              "496  12416011  1.175974e+06\n",
              "497  12232222  3.581058e+05\n",
              "498  11905630  5.663911e+05\n",
              "499  12394865  3.588821e+05\n",
              "\n",
              "[500 rows x 2 columns]"
            ]
          },
          "metadata": {
            "tags": []
          },
          "execution_count": 43
        }
      ]
    },
    {
      "cell_type": "code",
      "metadata": {
        "id": "Y37GncMNt6wb"
      },
      "source": [
        ""
      ],
      "execution_count": null,
      "outputs": []
    }
  ]
}